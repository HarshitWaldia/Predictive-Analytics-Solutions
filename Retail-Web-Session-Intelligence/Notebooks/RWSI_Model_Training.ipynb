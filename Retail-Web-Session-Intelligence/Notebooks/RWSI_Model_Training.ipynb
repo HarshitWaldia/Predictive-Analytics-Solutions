{
 "cells": [
  {
   "cell_type": "markdown",
   "id": "012f0013",
   "metadata": {},
   "source": [
    "### **Model Training**"
   ]
  },
  {
   "cell_type": "code",
   "execution_count": 14,
   "id": "05ccffe5",
   "metadata": {},
   "outputs": [],
   "source": [
    "import pandas as pd\n",
    "import numpy as np\n",
    "import joblib\n",
    "from sklearn.model_selection import train_test_split, cross_val_score, GridSearchCV\n",
    "from sklearn.linear_model import LogisticRegression\n",
    "from sklearn.ensemble import RandomForestClassifier \n",
    "from sklearn.metrics import accuracy_score, precision_score, recall_score, f1_score, roc_curve, roc_auc_score, confusion_matrix, classification_report\n",
    "\n",
    "import matplotlib.pyplot as plt\n",
    "import seaborn as sns\n",
    "\n",
    "%matplotlib inline"
   ]
  },
  {
   "cell_type": "code",
   "execution_count": 3,
   "id": "3c99f372",
   "metadata": {},
   "outputs": [],
   "source": [
    "df= pd.read_csv('..\\Data\\data_final_dataset_for_training.csv')"
   ]
  },
  {
   "cell_type": "code",
   "execution_count": 4,
   "id": "410fe807",
   "metadata": {},
   "outputs": [
    {
     "data": {
      "text/plain": [
       "(12330, 12577)"
      ]
     },
     "execution_count": 4,
     "metadata": {},
     "output_type": "execute_result"
    }
   ],
   "source": [
    "df.shape"
   ]
  },
  {
   "cell_type": "code",
   "execution_count": 5,
   "id": "9885e860",
   "metadata": {},
   "outputs": [
    {
     "data": {
      "text/html": [
       "<div>\n",
       "<style scoped>\n",
       "    .dataframe tbody tr th:only-of-type {\n",
       "        vertical-align: middle;\n",
       "    }\n",
       "\n",
       "    .dataframe tbody tr th {\n",
       "        vertical-align: top;\n",
       "    }\n",
       "\n",
       "    .dataframe thead th {\n",
       "        text-align: right;\n",
       "    }\n",
       "</style>\n",
       "<table border=\"1\" class=\"dataframe\">\n",
       "  <thead>\n",
       "    <tr style=\"text-align: right;\">\n",
       "      <th></th>\n",
       "      <th>num__AdClicks</th>\n",
       "      <th>num__InfoSectionCount</th>\n",
       "      <th>num__InfoSectionTime</th>\n",
       "      <th>num__HelpPageVisits</th>\n",
       "      <th>num__HelpPageTime</th>\n",
       "      <th>num__ItemBrowseCount</th>\n",
       "      <th>num__ItemBrowseTime</th>\n",
       "      <th>num__ExitRateFirstPage</th>\n",
       "      <th>num__SessionExitRatio</th>\n",
       "      <th>num__PageEngagementScore</th>\n",
       "      <th>...</th>\n",
       "      <th>cat__Market_TrafficSource_South America_15.0</th>\n",
       "      <th>cat__Market_TrafficSource_South America_2.0</th>\n",
       "      <th>cat__Market_TrafficSource_South America_20.0</th>\n",
       "      <th>cat__Market_TrafficSource_South America_3.0</th>\n",
       "      <th>cat__Market_TrafficSource_South America_4.0</th>\n",
       "      <th>cat__Market_TrafficSource_South America_5.0</th>\n",
       "      <th>cat__Market_TrafficSource_South America_6.0</th>\n",
       "      <th>cat__Market_TrafficSource_South America_8.0</th>\n",
       "      <th>cat__Market_TrafficSource_South America_9.0</th>\n",
       "      <th>MonetaryConversion</th>\n",
       "    </tr>\n",
       "  </thead>\n",
       "  <tbody>\n",
       "    <tr>\n",
       "      <th>0</th>\n",
       "      <td>-1.455321</td>\n",
       "      <td>-0.707489</td>\n",
       "      <td>-0.449735</td>\n",
       "      <td>-0.399292</td>\n",
       "      <td>-0.241179</td>\n",
       "      <td>-0.692355</td>\n",
       "      <td>-0.622817</td>\n",
       "      <td>3.679990</td>\n",
       "      <td>3.259038</td>\n",
       "      <td>-0.322017</td>\n",
       "      <td>...</td>\n",
       "      <td>0.0</td>\n",
       "      <td>0.0</td>\n",
       "      <td>0.0</td>\n",
       "      <td>0.0</td>\n",
       "      <td>0.0</td>\n",
       "      <td>0.0</td>\n",
       "      <td>0.0</td>\n",
       "      <td>0.0</td>\n",
       "      <td>0.0</td>\n",
       "      <td>0</td>\n",
       "    </tr>\n",
       "    <tr>\n",
       "      <th>1</th>\n",
       "      <td>1.464871</td>\n",
       "      <td>-0.707489</td>\n",
       "      <td>-0.449735</td>\n",
       "      <td>-0.399292</td>\n",
       "      <td>-0.241179</td>\n",
       "      <td>-0.669406</td>\n",
       "      <td>-0.588828</td>\n",
       "      <td>-0.460268</td>\n",
       "      <td>1.181495</td>\n",
       "      <td>-0.322017</td>\n",
       "      <td>...</td>\n",
       "      <td>0.0</td>\n",
       "      <td>0.0</td>\n",
       "      <td>0.0</td>\n",
       "      <td>0.0</td>\n",
       "      <td>0.0</td>\n",
       "      <td>0.0</td>\n",
       "      <td>0.0</td>\n",
       "      <td>0.0</td>\n",
       "      <td>0.0</td>\n",
       "      <td>0</td>\n",
       "    </tr>\n",
       "    <tr>\n",
       "      <th>2</th>\n",
       "      <td>-1.455321</td>\n",
       "      <td>-0.707489</td>\n",
       "      <td>-0.449735</td>\n",
       "      <td>-0.399292</td>\n",
       "      <td>-0.241179</td>\n",
       "      <td>-0.692355</td>\n",
       "      <td>-0.622817</td>\n",
       "      <td>3.679990</td>\n",
       "      <td>3.259038</td>\n",
       "      <td>-0.322017</td>\n",
       "      <td>...</td>\n",
       "      <td>0.0</td>\n",
       "      <td>0.0</td>\n",
       "      <td>0.0</td>\n",
       "      <td>0.0</td>\n",
       "      <td>0.0</td>\n",
       "      <td>0.0</td>\n",
       "      <td>0.0</td>\n",
       "      <td>0.0</td>\n",
       "      <td>0.0</td>\n",
       "      <td>0</td>\n",
       "    </tr>\n",
       "    <tr>\n",
       "      <th>3</th>\n",
       "      <td>1.464871</td>\n",
       "      <td>-0.707489</td>\n",
       "      <td>-0.449735</td>\n",
       "      <td>-0.399292</td>\n",
       "      <td>-0.241179</td>\n",
       "      <td>-0.669406</td>\n",
       "      <td>-0.621400</td>\n",
       "      <td>0.574796</td>\n",
       "      <td>2.012512</td>\n",
       "      <td>-0.322017</td>\n",
       "      <td>...</td>\n",
       "      <td>0.0</td>\n",
       "      <td>0.0</td>\n",
       "      <td>0.0</td>\n",
       "      <td>0.0</td>\n",
       "      <td>0.0</td>\n",
       "      <td>0.0</td>\n",
       "      <td>0.0</td>\n",
       "      <td>0.0</td>\n",
       "      <td>0.0</td>\n",
       "      <td>0</td>\n",
       "    </tr>\n",
       "    <tr>\n",
       "      <th>4</th>\n",
       "      <td>0.004775</td>\n",
       "      <td>-0.707489</td>\n",
       "      <td>-0.449735</td>\n",
       "      <td>-0.399292</td>\n",
       "      <td>-0.241179</td>\n",
       "      <td>-0.485814</td>\n",
       "      <td>-0.289569</td>\n",
       "      <td>-0.046243</td>\n",
       "      <td>0.142724</td>\n",
       "      <td>-0.322017</td>\n",
       "      <td>...</td>\n",
       "      <td>0.0</td>\n",
       "      <td>0.0</td>\n",
       "      <td>0.0</td>\n",
       "      <td>0.0</td>\n",
       "      <td>0.0</td>\n",
       "      <td>0.0</td>\n",
       "      <td>0.0</td>\n",
       "      <td>0.0</td>\n",
       "      <td>0.0</td>\n",
       "      <td>0</td>\n",
       "    </tr>\n",
       "  </tbody>\n",
       "</table>\n",
       "<p>5 rows × 12577 columns</p>\n",
       "</div>"
      ],
      "text/plain": [
       "   num__AdClicks  num__InfoSectionCount  num__InfoSectionTime  \\\n",
       "0      -1.455321              -0.707489             -0.449735   \n",
       "1       1.464871              -0.707489             -0.449735   \n",
       "2      -1.455321              -0.707489             -0.449735   \n",
       "3       1.464871              -0.707489             -0.449735   \n",
       "4       0.004775              -0.707489             -0.449735   \n",
       "\n",
       "   num__HelpPageVisits  num__HelpPageTime  num__ItemBrowseCount  \\\n",
       "0            -0.399292          -0.241179             -0.692355   \n",
       "1            -0.399292          -0.241179             -0.669406   \n",
       "2            -0.399292          -0.241179             -0.692355   \n",
       "3            -0.399292          -0.241179             -0.669406   \n",
       "4            -0.399292          -0.241179             -0.485814   \n",
       "\n",
       "   num__ItemBrowseTime  num__ExitRateFirstPage  num__SessionExitRatio  \\\n",
       "0            -0.622817                3.679990               3.259038   \n",
       "1            -0.588828               -0.460268               1.181495   \n",
       "2            -0.622817                3.679990               3.259038   \n",
       "3            -0.621400                0.574796               2.012512   \n",
       "4            -0.289569               -0.046243               0.142724   \n",
       "\n",
       "   num__PageEngagementScore  ...  \\\n",
       "0                 -0.322017  ...   \n",
       "1                 -0.322017  ...   \n",
       "2                 -0.322017  ...   \n",
       "3                 -0.322017  ...   \n",
       "4                 -0.322017  ...   \n",
       "\n",
       "   cat__Market_TrafficSource_South America_15.0  \\\n",
       "0                                           0.0   \n",
       "1                                           0.0   \n",
       "2                                           0.0   \n",
       "3                                           0.0   \n",
       "4                                           0.0   \n",
       "\n",
       "   cat__Market_TrafficSource_South America_2.0  \\\n",
       "0                                          0.0   \n",
       "1                                          0.0   \n",
       "2                                          0.0   \n",
       "3                                          0.0   \n",
       "4                                          0.0   \n",
       "\n",
       "   cat__Market_TrafficSource_South America_20.0  \\\n",
       "0                                           0.0   \n",
       "1                                           0.0   \n",
       "2                                           0.0   \n",
       "3                                           0.0   \n",
       "4                                           0.0   \n",
       "\n",
       "   cat__Market_TrafficSource_South America_3.0  \\\n",
       "0                                          0.0   \n",
       "1                                          0.0   \n",
       "2                                          0.0   \n",
       "3                                          0.0   \n",
       "4                                          0.0   \n",
       "\n",
       "   cat__Market_TrafficSource_South America_4.0  \\\n",
       "0                                          0.0   \n",
       "1                                          0.0   \n",
       "2                                          0.0   \n",
       "3                                          0.0   \n",
       "4                                          0.0   \n",
       "\n",
       "   cat__Market_TrafficSource_South America_5.0  \\\n",
       "0                                          0.0   \n",
       "1                                          0.0   \n",
       "2                                          0.0   \n",
       "3                                          0.0   \n",
       "4                                          0.0   \n",
       "\n",
       "   cat__Market_TrafficSource_South America_6.0  \\\n",
       "0                                          0.0   \n",
       "1                                          0.0   \n",
       "2                                          0.0   \n",
       "3                                          0.0   \n",
       "4                                          0.0   \n",
       "\n",
       "   cat__Market_TrafficSource_South America_8.0  \\\n",
       "0                                          0.0   \n",
       "1                                          0.0   \n",
       "2                                          0.0   \n",
       "3                                          0.0   \n",
       "4                                          0.0   \n",
       "\n",
       "   cat__Market_TrafficSource_South America_9.0  MonetaryConversion  \n",
       "0                                          0.0                   0  \n",
       "1                                          0.0                   0  \n",
       "2                                          0.0                   0  \n",
       "3                                          0.0                   0  \n",
       "4                                          0.0                   0  \n",
       "\n",
       "[5 rows x 12577 columns]"
      ]
     },
     "execution_count": 5,
     "metadata": {},
     "output_type": "execute_result"
    }
   ],
   "source": [
    "df.head(5)"
   ]
  },
  {
   "cell_type": "code",
   "execution_count": 6,
   "id": "5649a111",
   "metadata": {},
   "outputs": [
    {
     "name": "stdout",
     "output_type": "stream",
     "text": [
      "\n",
      "Features (X) shape: (12330, 12576)\n",
      "Target (y) shape: (12330,)\n",
      "Target variable distribution:\n",
      "MonetaryConversion\n",
      "0    10422\n",
      "1     1908\n",
      "Name: count, dtype: int64\n",
      "Target variable percentage:\n",
      "MonetaryConversion\n",
      "0    84.525547\n",
      "1    15.474453\n",
      "Name: proportion, dtype: float64\n"
     ]
    }
   ],
   "source": [
    "TARGET = 'MonetaryConversion'\n",
    "X = df.drop(columns=[TARGET])\n",
    "y = df[TARGET]\n",
    "\n",
    "print(f\"\\nFeatures (X) shape: {X.shape}\")\n",
    "print(f\"Target (y) shape: {y.shape}\")\n",
    "print(f\"Target variable distribution:\\n{y.value_counts()}\")\n",
    "print(f\"Target variable percentage:\\n{y.value_counts(normalize=True) * 100}\")"
   ]
  },
  {
   "cell_type": "markdown",
   "id": "ad2f5517",
   "metadata": {},
   "source": [
    "### **Splitting Data into Training and Testing Sets**"
   ]
  },
  {
   "cell_type": "code",
   "execution_count": 7,
   "id": "304eee6e",
   "metadata": {},
   "outputs": [
    {
     "name": "stdout",
     "output_type": "stream",
     "text": [
      "X_train shape: (9864, 12576)\n",
      "X_test shape: (2466, 12576)\n",
      "y_train shape: (9864,)\n",
      "y_test shape: (2466,)\n"
     ]
    }
   ],
   "source": [
    "X_train, X_test, y_train, y_test = train_test_split(\n",
    "    X, y, test_size=0.2, random_state=42, stratify=y\n",
    ")\n",
    "\n",
    "print(f\"X_train shape: {X_train.shape}\")\n",
    "print(f\"X_test shape: {X_test.shape}\")\n",
    "print(f\"y_train shape: {y_train.shape}\")\n",
    "print(f\"y_test shape: {y_test.shape}\")"
   ]
  },
  {
   "cell_type": "markdown",
   "id": "c6f425e6",
   "metadata": {},
   "source": [
    "### **Verify stratification**"
   ]
  },
  {
   "cell_type": "code",
   "execution_count": 8,
   "id": "3e486285",
   "metadata": {},
   "outputs": [
    {
     "name": "stdout",
     "output_type": "stream",
     "text": [
      "\n",
      "Target distribution in training set:\n",
      "MonetaryConversion\n",
      "0    84.529603\n",
      "1    15.470397\n",
      "Name: proportion, dtype: float64\n",
      "\n",
      "Target distribution in test set:\n",
      "MonetaryConversion\n",
      "0    84.509327\n",
      "1    15.490673\n",
      "Name: proportion, dtype: float64\n"
     ]
    }
   ],
   "source": [
    "print(\"\\nTarget distribution in training set:\")\n",
    "print(y_train.value_counts(normalize=True) * 100)\n",
    "print(\"\\nTarget distribution in test set:\")\n",
    "print(y_test.value_counts(normalize=True) * 100)"
   ]
  },
  {
   "cell_type": "markdown",
   "id": "3d5d4f5b",
   "metadata": {},
   "source": [
    "### **Model Training**"
   ]
  },
  {
   "cell_type": "markdown",
   "id": "bf09ae7c",
   "metadata": {},
   "source": [
    "### **Logistic Regression Classifier And Random Forest Classifier**"
   ]
  },
  {
   "cell_type": "code",
   "execution_count": 9,
   "id": "e7a2c1ec",
   "metadata": {},
   "outputs": [
    {
     "name": "stdout",
     "output_type": "stream",
     "text": [
      "Logistic Regression Model trained successfully!\n",
      "\n",
      "Training Random Forest Classifier Model...\n",
      "Random Forest Classifier Model trained successfully!\n",
      "Logistic Regression model saved to 'logistic_regression_model.pkl'.\n",
      "Random forest model saved to 'Random_forest_model.pkl'.\n"
     ]
    }
   ],
   "source": [
    "logistic_model = LogisticRegression(random_state=42, solver='liblinear', class_weight='balanced', max_iter=1000)\n",
    "\n",
    "logistic_model.fit(X_train, y_train)\n",
    "print(\"Logistic Regression Model trained successfully!\")\n",
    "\n",
    "print(\"\\nTraining Random Forest Classifier Model...\")\n",
    "rf_model = RandomForestClassifier(random_state=42, n_estimators=100, class_weight='balanced', n_jobs=-1)\n",
    "\n",
    "rf_model.fit(X_train, y_train)\n",
    "print(\"Random Forest Classifier Model trained successfully!\")\n",
    "\n",
    "joblib.dump(logistic_model, '..\\Models\\logistic_regression_model.pkl')\n",
    "print(\"Logistic Regression model saved to 'logistic_regression_model.pkl'.\")\n",
    "\n",
    "joblib.dump(rf_model,'..\\Models\\Random_forest_model.pkl')\n",
    "print(\"Random forest model saved to 'Random_forest_model.pkl'.\")\n"
   ]
  },
  {
   "cell_type": "markdown",
   "id": "5b62b1cb",
   "metadata": {},
   "source": [
    "### **Evaluating Model**"
   ]
  },
  {
   "cell_type": "code",
   "execution_count": 10,
   "id": "2c9afce0",
   "metadata": {},
   "outputs": [
    {
     "name": "stdout",
     "output_type": "stream",
     "text": [
      "\n",
      "--- Logistic Regression Model Evaluation ---\n",
      "Accuracy: 0.8654\n",
      "Precision: 0.5579\n",
      "Recall: 0.6309\n",
      "F1-Score: 0.5921\n",
      "ROC AUC Score: 0.8772\n",
      "\n",
      "Classification Report for Logistic Regression:\n",
      "              precision    recall  f1-score   support\n",
      "\n",
      "           0       0.93      0.91      0.92      2084\n",
      "           1       0.56      0.63      0.59       382\n",
      "\n",
      "    accuracy                           0.87      2466\n",
      "   macro avg       0.74      0.77      0.76      2466\n",
      "weighted avg       0.87      0.87      0.87      2466\n",
      "\n",
      "\n",
      "Confusion Matrix for Logistic Regression:\n"
     ]
    },
    {
     "data": {
      "image/png": "[encoded data removed]",
      "text/plain": [
       "<Figure size 600x400 with 1 Axes>"
      ]
     },
     "metadata": {},
     "output_type": "display_data"
    }
   ],
   "source": [
    "print(\"\\n--- Logistic Regression Model Evaluation ---\")\n",
    "y_pred_lr = logistic_model.predict(X_test)\n",
    "y_proba_lr = logistic_model.predict_proba(X_test)[:, 1] \n",
    "\n",
    "print(f\"Accuracy: {accuracy_score(y_test, y_pred_lr):.4f}\")\n",
    "print(f\"Precision: {precision_score(y_test, y_pred_lr):.4f}\")\n",
    "print(f\"Recall: {recall_score(y_test, y_pred_lr):.4f}\")\n",
    "print(f\"F1-Score: {f1_score(y_test, y_pred_lr):.4f}\")\n",
    "print(f\"ROC AUC Score: {roc_auc_score(y_test, y_proba_lr):.4f}\")\n",
    "\n",
    "print(\"\\nClassification Report for Logistic Regression:\")\n",
    "print(classification_report(y_test, y_pred_lr))\n",
    "\n",
    "print(\"\\nConfusion Matrix for Logistic Regression:\")\n",
    "cm_lr = confusion_matrix(y_test, y_pred_lr)\n",
    "plt.figure(figsize=(6, 4))\n",
    "sns.heatmap(cm_lr, annot=True, fmt='d', cmap='Blues', cbar=False,\n",
    "            xticklabels=['Predicted 0', 'Predicted 1'],\n",
    "            yticklabels=['Actual 0', 'Actual 1'])\n",
    "plt.title('Confusion Matrix - Logistic Regression')\n",
    "plt.xlabel('Predicted Label')\n",
    "plt.ylabel('True Label')\n",
    "plt.show()"
   ]
  },
  {
   "cell_type": "code",
   "execution_count": 11,
   "id": "042525b4",
   "metadata": {},
   "outputs": [
    {
     "name": "stdout",
     "output_type": "stream",
     "text": [
      "\n",
      "--- Random forest Model Evaluation ---\n",
      "Accuracy: 0.8804\n",
      "Precision: 0.8000\n",
      "Recall: 0.3037\n",
      "F1-Score: 0.4402\n",
      "ROC AUC Score: 0.9001\n",
      "\n",
      "Classification Report for Random forest:\n",
      "              precision    recall  f1-score   support\n",
      "\n",
      "           0       0.89      0.99      0.93      2084\n",
      "           1       0.80      0.30      0.44       382\n",
      "\n",
      "    accuracy                           0.88      2466\n",
      "   macro avg       0.84      0.64      0.69      2466\n",
      "weighted avg       0.87      0.88      0.86      2466\n",
      "\n",
      "\n",
      "Confusion Matrix for Random forest:\n"
     ]
    },
    {
     "data": {
      "image/png": "[encoded data removed]",
      "text/plain": [
       "<Figure size 600x400 with 1 Axes>"
      ]
     },
     "metadata": {},
     "output_type": "display_data"
    }
   ],
   "source": [
    "print(\"\\n--- Random forest Model Evaluation ---\")\n",
    "y_pred_lr = rf_model.predict(X_test)\n",
    "y_proba_lr = rf_model.predict_proba(X_test)[:, 1] \n",
    "\n",
    "print(f\"Accuracy: {accuracy_score(y_test, y_pred_lr):.4f}\")\n",
    "print(f\"Precision: {precision_score(y_test, y_pred_lr):.4f}\")\n",
    "print(f\"Recall: {recall_score(y_test, y_pred_lr):.4f}\")\n",
    "print(f\"F1-Score: {f1_score(y_test, y_pred_lr):.4f}\")\n",
    "print(f\"ROC AUC Score: {roc_auc_score(y_test, y_proba_lr):.4f}\")\n",
    "\n",
    "print(\"\\nClassification Report for Random forest:\")\n",
    "print(classification_report(y_test, y_pred_lr))\n",
    "\n",
    "print(\"\\nConfusion Matrix for Random forest:\")\n",
    "cm_lr = confusion_matrix(y_test, y_pred_lr)\n",
    "plt.figure(figsize=(6, 4))\n",
    "sns.heatmap(cm_lr, annot=True, fmt='d', cmap='Blues', cbar=False,\n",
    "            xticklabels=['Predicted 0', 'Predicted 1'],\n",
    "            yticklabels=['Actual 0', 'Actual 1'])\n",
    "plt.title('Confusion Matrix - Random forest')\n",
    "plt.xlabel('Predicted Label')\n",
    "plt.ylabel('True Label')\n",
    "plt.show()"
   ]
  },
  {
   "cell_type": "markdown",
   "id": "9f3c83d3",
   "metadata": {},
   "source": [
    "### **Hyperparameter Tuning with GridSearchCV**"
   ]
  },
  {
   "cell_type": "code",
   "execution_count": null,
   "id": "8dc7d78d",
   "metadata": {},
   "outputs": [],
   "source": [
    "def evaluate_model(model, X_test, y_test, model_name=\"Model\"):\n",
    "    y_pred = model.predict(X_test)\n",
    "    y_proba = model.predict_proba(X_test)[:, 1]\n",
    "\n",
    "    print(f\"\\n--- {model_name} Performance ---\")\n",
    "    print(f\"Accuracy: {accuracy_score(y_test, y_pred):.4f}\")\n",
    "    print(f\"Precision: {precision_score(y_test, y_pred):.4f}\")\n",
    "    print(f\"Recall: {recall_score(y_test, y_pred):.4f}\")\n",
    "    print(f\"F1-Score: {f1_score(y_test, y_pred):.4f}\")\n",
    "    print(f\"ROC AUC: {roc_auc_score(y_test, y_proba):.4f}\")\n",
    "\n",
    "    print(\"\\nClassification Report:\")\n",
    "    print(classification_report(y_test, y_pred))\n",
    "\n",
    "    print(\"\\nConfusion Matrix:\")\n",
    "    cm = confusion_matrix(y_test, y_pred)\n",
    "    plt.figure(figsize=(6, 4))\n",
    "    sns.heatmap(cm, annot=True, fmt='d', cmap='Blues', cbar=False,\n",
    "                xticklabels=['Predicted 0', 'Predicted 1'],\n",
    "                yticklabels=['Actual 0', 'Actual 1'])\n",
    "    plt.title(f'Confusion Matrix - {model_name}')\n",
    "    plt.xlabel('Predicted Label')\n",
    "    plt.ylabel('True Label')\n",
    "    plt.show()\n",
    "    \n",
    "    fpr, tpr, thresholds = roc_curve(y_test, y_proba)\n",
    "    plt.figure(figsize=(6, 4))\n",
    "    plt.plot(fpr, tpr, color='darkorange', lw=2, label=f'ROC curve (area = {roc_auc_score(y_test, y_proba):.2f})')\n",
    "    plt.plot([0, 1], [0, 1], color='navy', lw=2, linestyle='--')\n",
    "    plt.xlim([0.0, 1.0])\n",
    "    plt.ylim([0.0, 1.05])\n",
    "    plt.xlabel('False Positive Rate')\n",
    "    plt.ylabel('True Positive Rate')\n",
    "    plt.title(f'Receiver Operating Characteristic - {model_name}')\n",
    "    plt.legend(loc=\"lower right\")\n",
    "    plt.show()"
   ]
  },
  {
   "cell_type": "code",
   "execution_count": 15,
   "id": "586b951b",
   "metadata": {},
   "outputs": [
    {
     "name": "stdout",
     "output_type": "stream",
     "text": [
      "Fitting 3 folds for each of 18 candidates, totalling 54 fits\n",
      "\n",
      "Best parameters for Random Forest: {'class_weight': 'balanced', 'max_depth': None, 'min_samples_leaf': 1, 'n_estimators': 200}\n",
      "\n",
      "--- Best Random Forest Classifier (Tuned) Performance ---\n",
      "Accuracy: 0.8804\n",
      "Precision: 0.8175\n",
      "Recall: 0.2932\n",
      "F1-Score: 0.4316\n",
      "ROC AUC: 0.9018\n",
      "\n",
      "Classification Report:\n",
      "              precision    recall  f1-score   support\n",
      "\n",
      "           0       0.88      0.99      0.93      2084\n",
      "           1       0.82      0.29      0.43       382\n",
      "\n",
      "    accuracy                           0.88      2466\n",
      "   macro avg       0.85      0.64      0.68      2466\n",
      "weighted avg       0.87      0.88      0.86      2466\n",
      "\n",
      "\n",
      "Confusion Matrix:\n"
     ]
    },
    {
     "data": {
      "image/png": "[encoded data removed]",
      "text/plain": [
       "<Figure size 600x400 with 1 Axes>"
      ]
     },
     "metadata": {},
     "output_type": "display_data"
    },
    {
     "data": {
      "image/png": "[encoded data removed]",
      "text/plain": [
       "<Figure size 600x400 with 1 Axes>"
      ]
     },
     "metadata": {},
     "output_type": "display_data"
    },
    {
     "name": "stdout",
     "output_type": "stream",
     "text": [
      "Best Random Forest Classifier model saved to 'best_random_forest_model.pkl'.\n",
      "\n",
      "--- Model Training Complete ---\n",
      "You can now load 'best_random_forest_model.pkl' (or other saved models) for prediction on new data.\n"
     ]
    }
   ],
   "source": [
    "param_grid_rf = {\n",
    "    'n_estimators': [50, 100, 200],\n",
    "    'max_depth': [5, 10, None], \n",
    "    'min_samples_leaf': [1, 2],\n",
    "    'class_weight': ['balanced']\n",
    "}\n",
    "\n",
    "grid_search_rf = GridSearchCV(\n",
    "    RandomForestClassifier(random_state=42, n_jobs=-1),\n",
    "    param_grid_rf,\n",
    "    cv=3,\n",
    "    scoring='roc_auc', \n",
    "    verbose=1,\n",
    "    n_jobs=-1 \n",
    ")\n",
    "\n",
    "grid_search_rf.fit(X_train, y_train)\n",
    "\n",
    "print(f\"\\nBest parameters for Random Forest: {grid_search_rf.best_params_}\")\n",
    "best_rf_clf = grid_search_rf.best_estimator_\n",
    "evaluate_model(best_rf_clf, X_test, y_test, \"Best Random Forest Classifier (Tuned)\")\n",
    "joblib.dump(best_rf_clf, '..\\Models\\Best_random_forest_model.pkl')\n",
    "print(\"Best Random Forest Classifier model saved to 'best_random_forest_model.pkl'.\")\n",
    "\n",
    "\n",
    "print(\"\\n--- Model Training Complete ---\")\n",
    "print(\"You can now load 'best_random_forest_model.pkl' (or other saved models) for prediction on new data.\")"
   ]
  },
  {
   "cell_type": "code",
   "execution_count": 22,
   "id": "50249cba",
   "metadata": {},
   "outputs": [
    {
     "name": "stdout",
     "output_type": "stream",
     "text": [
      "\n",
      "Example Prediction for a new sample: [0 0 0 0 0 0 0 0]\n",
      "Probability: [[0.97  0.03 ]\n",
      " [0.92  0.08 ]\n",
      " [0.515 0.485]\n",
      " [0.985 0.015]\n",
      " [0.965 0.035]\n",
      " [0.95  0.05 ]\n",
      " [0.915 0.085]\n",
      " [0.855 0.145]]\n"
     ]
    }
   ],
   "source": [
    "loaded_model = joblib.load('..\\Models\\Best_random_forest_model.pkl')\n",
    "sample_new_data = X_test.iloc[0:8]\n",
    "prediction = loaded_model.predict(sample_new_data)\n",
    "prediction_proba = loaded_model.predict_proba(sample_new_data)\n",
    "print(f\"\\nExample Prediction for a new sample: {prediction}\")\n",
    "print(f\"Probability: {prediction_proba}\")"
   ]
  },
  {
   "cell_type": "code",
   "execution_count": null,
   "id": "3f97d214",
   "metadata": {},
   "outputs": [],
   "source": []
  },
  {
   "cell_type": "code",
   "execution_count": null,
   "id": "907074c7",
   "metadata": {},
   "outputs": [],
   "source": []
  }
 ],
 "metadata": {
  "kernelspec": {
   "display_name": "gearshift",
   "language": "python",
   "name": "python3"
  },
  "language_info": {
   "codemirror_mode": {
    "name": "ipython",
    "version": 3
   },
   "file_extension": ".py",
   "mimetype": "text/x-python",
   "name": "python",
   "nbconvert_exporter": "python",
   "pygments_lexer": "ipython3",
   "version": "3.11.1"
  }
 },
 "nbformat": 4,
 "nbformat_minor": 5
}
